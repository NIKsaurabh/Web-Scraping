{
 "cells": [
  {
   "cell_type": "code",
   "execution_count": 8,
   "metadata": {},
   "outputs": [],
   "source": [
    "from bs4 import BeautifulSoup as bfs\n",
    "from urllib.request import urlopen as uro"
   ]
  },
  {
   "cell_type": "code",
   "execution_count": 9,
   "metadata": {},
   "outputs": [],
   "source": [
    "url = 'https://www.amazon.in/s?k=iphone&ref=nb_sb_noss_2'"
   ]
  },
  {
   "cell_type": "code",
   "execution_count": 10,
   "metadata": {},
   "outputs": [],
   "source": [
    "urlConnect = uro(url)\n",
    "urlRead = urlConnect.read()\n",
    "urlConnect.close()\n",
    "parse = bfs(urlRead, 'html.parser')"
   ]
  },
  {
   "cell_type": "code",
   "execution_count": 11,
   "metadata": {},
   "outputs": [],
   "source": [
    "containers = parse.find_all('div',{'class':'a-section a-spacing-medium'})"
   ]
  },
  {
   "cell_type": "code",
   "execution_count": 12,
   "metadata": {},
   "outputs": [
    {
     "data": {
      "text/plain": [
       "24"
      ]
     },
     "execution_count": 12,
     "metadata": {},
     "output_type": "execute_result"
    }
   ],
   "source": [
    "len(containers)"
   ]
  },
  {
   "cell_type": "code",
   "execution_count": 13,
   "metadata": {},
   "outputs": [
    {
     "data": {
      "text/plain": [
       "<div class=\"a-section a-spacing-medium\">\n",
       "<div class=\"a-section a-spacing-micro s-min-height-extra-large\">\n",
       "</div>\n",
       "<span class=\"rush-component\" data-component-type=\"s-product-image\">\n",
       "<a class=\"a-link-normal\" href=\"/Apple-iPhone-XR-64GB-Black/dp/B07JWV47JW\" target=\"_blank\">\n",
       "<div class=\"a-section aok-relative s-image-square-aspect\">\n",
       "<img alt=\"Apple iPhone XR (64GB) - Black\" class=\"s-image\" data-image-index=\"0\" data-image-latency=\"s-product-image\" data-image-load=\"\" data-image-source-density=\"1\" onload=\"window.uet &amp;&amp; uet('cf')\" src=\"https://m.media-amazon.com/images/I/519KIlHA2wL._AC_UL320_ML3_.jpg\" srcset=\"https://m.media-amazon.com/images/I/519KIlHA2wL._AC_UL320_ML3_.jpg 1x, https://m.media-amazon.com/images/I/519KIlHA2wL._AC_UL480_QL65_ML3_.jpg 1.5x, https://m.media-amazon.com/images/I/519KIlHA2wL._AC_UL640_QL65_ML3_.jpg 2x, https://m.media-amazon.com/images/I/519KIlHA2wL._AC_UL800_QL65_ML3_.jpg 2.5x, https://m.media-amazon.com/images/I/519KIlHA2wL._AC_UL960_QL65_ML3_.jpg 3x\"/>\n",
       "</div>\n",
       "</a>\n",
       "</span>\n",
       "<div class=\"a-section a-spacing-none a-spacing-top-small\">\n",
       "<h2 class=\"a-size-mini a-spacing-none a-color-base s-line-clamp-4\">\n",
       "<a class=\"a-link-normal a-text-normal\" href=\"/Apple-iPhone-XR-64GB-Black/dp/B07JWV47JW\" target=\"_blank\">\n",
       "<span class=\"a-size-base-plus a-color-base a-text-normal\">Apple iPhone XR (64GB) - Black</span>\n",
       "</a>\n",
       "</h2>\n",
       "</div>\n",
       "<div class=\"a-section a-spacing-none a-spacing-top-micro\">\n",
       "<div class=\"a-row a-size-small\">\n",
       "<span aria-label=\"4.5 out of 5 stars\">\n",
       "<span class=\"a-declarative\" data-a-popover='{\"max-width\":\"700\",\"closeButton\":false,\"position\":\"triggerBottom\",\"url\":\"/review/widgets/average-customer-review/popover/ref=acr_search__popover?ie=UTF8&amp;asin=B07JWV47JW&amp;ref=acr_search__popover&amp;contextId=search\"}' data-action=\"a-popover\">\n",
       "<a class=\"a-popover-trigger a-declarative\" href=\"javascript:void(0)\"><i class=\"a-icon a-icon-star-small a-star-small-4-5 aok-align-bottom\"><span class=\"a-icon-alt\">4.5 out of 5 stars</span></i><i class=\"a-icon a-icon-popover\"></i></a>\n",
       "</span>\n",
       "</span>\n",
       "<span aria-label=\"8,420\">\n",
       "<a class=\"a-link-normal\" href=\"/Apple-iPhone-XR-64GB-Black/dp/B07JWV47JW#customerReviews\" target=\"_blank\">\n",
       "<span class=\"a-size-base\">8,420</span>\n",
       "</a>\n",
       "</span>\n",
       "</div>\n",
       "</div>\n",
       "<div class=\"a-section a-spacing-none a-spacing-top-small\">\n",
       "<div class=\"a-row a-size-base a-color-base\"><div class=\"a-row\">\n",
       "<a class=\"a-size-base a-link-normal s-no-hover a-text-normal\" href=\"/Apple-iPhone-XR-64GB-Black/dp/B07JWV47JW\" target=\"_blank\">\n",
       "<span class=\"a-price\" data-a-color=\"price\" data-a-size=\"l\"><span class=\"a-offscreen\">₹44,900</span><span aria-hidden=\"true\"><span class=\"a-price-symbol\">₹</span><span class=\"a-price-whole\">44,900</span></span></span>\n",
       "<span class=\"a-price a-text-price\" data-a-color=\"secondary\" data-a-size=\"b\" data-a-strike=\"true\"><span class=\"a-offscreen\">₹76,900</span><span aria-hidden=\"true\">₹76,900</span></span>\n",
       "</a>\n",
       "<span class=\"a-letter-space\"></span><span>Save ₹32,000 (42%)</span></div></div>\n",
       "</div>\n",
       "<div class=\"a-section a-spacing-none a-spacing-top-micro\">\n",
       "<div class=\"a-row a-size-base a-color-secondary s-align-children-center\"><div class=\"a-row s-align-children-center\">\n",
       "<span class=\"aok-inline-block s-image-logo-view\">\n",
       "<span class=\"aok-relative s-icon-text-medium s-prime\">\n",
       "<i aria-label=\"Amazon Prime\" class=\"a-icon a-icon-prime a-icon-medium\" role=\"img\"></i>\n",
       "</span>\n",
       "<span>\n",
       "</span>\n",
       "</span>\n",
       "<span aria-label=\"Get it by Tuesday, December 31\">\n",
       "<span>Get it by </span><span class=\"a-text-bold\">Tuesday, December 31</span>\n",
       "</span>\n",
       "</div><div class=\"a-row\">\n",
       "<span aria-label=\"FREE Delivery by Amazon\">\n",
       "<span>FREE Delivery by Amazon</span>\n",
       "</span>\n",
       "</div></div>\n",
       "</div>\n",
       "</div>"
      ]
     },
     "execution_count": 13,
     "metadata": {},
     "output_type": "execute_result"
    }
   ],
   "source": [
    "containers[0]"
   ]
  },
  {
   "cell_type": "code",
   "execution_count": 14,
   "metadata": {},
   "outputs": [],
   "source": [
    "name = parse.find_all('a',{'class':'a-link-normal a-text-normal'})"
   ]
  },
  {
   "cell_type": "code",
   "execution_count": 15,
   "metadata": {},
   "outputs": [
    {
     "data": {
      "text/plain": [
       "'\\nApple iPhone XR (64GB) - Black\\n'"
      ]
     },
     "execution_count": 15,
     "metadata": {},
     "output_type": "execute_result"
    }
   ],
   "source": [
    "name[0].text"
   ]
  },
  {
   "cell_type": "code",
   "execution_count": 16,
   "metadata": {},
   "outputs": [],
   "source": [
    "rating = parse.find_all('i',{'class':'a-icon a-icon-star-small a-star-small-4-5 aok-align-bottom'})"
   ]
  },
  {
   "cell_type": "code",
   "execution_count": 17,
   "metadata": {},
   "outputs": [
    {
     "data": {
      "text/plain": [
       "'4.5 out of 5 stars'"
      ]
     },
     "execution_count": 17,
     "metadata": {},
     "output_type": "execute_result"
    }
   ],
   "source": [
    "rating[0].text"
   ]
  },
  {
   "cell_type": "code",
   "execution_count": 18,
   "metadata": {},
   "outputs": [],
   "source": [
    "price = parse.find_all('span',{'class':'a-offscreen'})"
   ]
  },
  {
   "cell_type": "code",
   "execution_count": 19,
   "metadata": {},
   "outputs": [
    {
     "data": {
      "text/plain": [
       "'₹44,900'"
      ]
     },
     "execution_count": 19,
     "metadata": {},
     "output_type": "execute_result"
    }
   ],
   "source": [
    "price[0].text"
   ]
  },
  {
   "cell_type": "code",
   "execution_count": 20,
   "metadata": {},
   "outputs": [
    {
     "data": {
      "text/plain": [
       "28"
      ]
     },
     "execution_count": 20,
     "metadata": {},
     "output_type": "execute_result"
    }
   ],
   "source": [
    "file = 'iphone_amazon.csv'\n",
    "file = open(file,'w')\n",
    "header = 'Product Name, Rating, Price\\n'\n",
    "file.write(header)"
   ]
  },
  {
   "cell_type": "code",
   "execution_count": 21,
   "metadata": {},
   "outputs": [],
   "source": [
    "for i in range(13):\n",
    "    name = parse.find_all('a',{'class':'a-link-normal a-text-normal'})\n",
    "    name=(name[i].text).replace('\\n','')\n",
    "    rating = parse.find_all('i',{'class':'a-icon a-icon-star-small a-star-small-4-5 aok-align-bottom'})\n",
    "    rating=((rating[i].text).replace(' out of 5 stars',''))\n",
    "    price = parse.find_all('span',{'class':'a-offscreen'})\n",
    "    price=((price[i].text).replace(',',''))\n",
    "    file.write(name+','+rating+','+price+'\\n')"
   ]
  },
  {
   "cell_type": "code",
   "execution_count": 22,
   "metadata": {},
   "outputs": [],
   "source": [
    "file.close()"
   ]
  },
  {
   "cell_type": "code",
   "execution_count": null,
   "metadata": {},
   "outputs": [],
   "source": []
  }
 ],
 "metadata": {
  "kernelspec": {
   "display_name": "Python 3",
   "language": "python",
   "name": "python3"
  },
  "language_info": {
   "codemirror_mode": {
    "name": "ipython",
    "version": 3
   },
   "file_extension": ".py",
   "mimetype": "text/x-python",
   "name": "python",
   "nbconvert_exporter": "python",
   "pygments_lexer": "ipython3",
   "version": "3.6.9"
  }
 },
 "nbformat": 4,
 "nbformat_minor": 2
}
