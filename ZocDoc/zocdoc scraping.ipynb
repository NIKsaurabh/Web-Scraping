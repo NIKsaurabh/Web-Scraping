{
 "cells": [
  {
   "cell_type": "markdown",
   "metadata": {},
   "source": [
    "# Web Scraping"
   ]
  },
  {
   "cell_type": "markdown",
   "metadata": {},
   "source": [
    "Scraped doctor's name and their speciality from https://www.zocdoc.com/specialty website. Initial web page of this website includes many specialities and its corresponding insurances, procedures and reason in which doctors are available. We have to click only specialities and scrape doctor's name and their specific speciality from that webpage. Each speciality have doctor's name in 10 webpages. We have to navigate to each and every pages to scrape the contents."
   ]
  },
  {
   "cell_type": "markdown",
   "metadata": {},
   "source": [
    "#### Importing libraries"
   ]
  },
  {
   "cell_type": "code",
   "execution_count": null,
   "metadata": {},
   "outputs": [],
   "source": [
    "from selenium import webdriver\n",
    "from bs4 import BeautifulSoup as bs\n",
    "import pandas as pd"
   ]
  },
  {
   "cell_type": "markdown",
   "metadata": {},
   "source": [
    "I have used **Firefox** browser so I have used **geckodriver** to link **selenium** and Firefox browser. "
   ]
  },
  {
   "cell_type": "code",
   "execution_count": null,
   "metadata": {
    "scrolled": true
   },
   "outputs": [],
   "source": [
    "driver = webdriver.Firefox()\n",
    "#Opening the home page with the help of selenium\n",
    "home = driver.get('https://www.zocdoc.com/specialty')"
   ]
  },
  {
   "cell_type": "code",
   "execution_count": null,
   "metadata": {},
   "outputs": [],
   "source": [
    "#Getting all the source of the webpage where we visited\n",
    "content = driver.page_source"
   ]
  },
  {
   "cell_type": "code",
   "execution_count": null,
   "metadata": {},
   "outputs": [],
   "source": [
    "#Handing over all the contents of the webpage to beautifulsoup to scrape the webpage.\n",
    "soup = bs(content)"
   ]
  },
  {
   "cell_type": "markdown",
   "metadata": {},
   "source": [
    "#### Scraping all the specialities from the home page"
   ]
  },
  {
   "cell_type": "code",
   "execution_count": null,
   "metadata": {},
   "outputs": [],
   "source": [
    "specialities = []"
   ]
  },
  {
   "cell_type": "code",
   "execution_count": null,
   "metadata": {},
   "outputs": [],
   "source": [
    "for i in soup.findAll(class_='sc-2gkh1u-2 sc-1hky09g-1 jULkYr'):\n",
    "    special = i.find(class_='sc-2gkh1u-3 jBFlDB')\n",
    "    specialities.append(special.text)"
   ]
  },
  {
   "cell_type": "code",
   "execution_count": null,
   "metadata": {
    "scrolled": true
   },
   "outputs": [],
   "source": [
    "specialities"
   ]
  },
  {
   "cell_type": "code",
   "execution_count": null,
   "metadata": {},
   "outputs": [],
   "source": [
    "#Lists to contain scraped Doctor's name and their speciality\n",
    "name = []\n",
    "speciality = []"
   ]
  },
  {
   "cell_type": "markdown",
   "metadata": {},
   "source": [
    "#### Scraping Doctor's name and speciality from all the pages."
   ]
  },
  {
   "cell_type": "code",
   "execution_count": null,
   "metadata": {},
   "outputs": [],
   "source": [
    "#Iterating over all the specialities\n",
    "for doc in specialities:\n",
    "    #Moving to home page\n",
    "    driver.get('https://www.zocdoc.com/specialty')\n",
    "    #Clicking on a particular speciality\n",
    "    driver.find_element_by_partial_link_text(doc).click()\n",
    "    #Getting the page source and handing over it to beautifulsoup \n",
    "    new_soup = bs(driver.page_source)\n",
    "    \"\"\"When a speciality is clicked on the home page then in the URL chages. \n",
    "       For example if we click 'Ear, Nose & Throat Doctor' then URL will change to \n",
    "       'https://www.zocdoc.com/ear-nose-throat-doctors' so we have to clean the speciality according to URL\"\"\"\n",
    "    doc = doc.lower()\n",
    "    doc = doc.replace('-','')\n",
    "    doc = doc.replace(', ','-')\n",
    "    doc = doc.replace(' & ','-')\n",
    "    doc = doc.replace(' / ','-')\n",
    "    doc = doc.replace(' ','-')\n",
    "    #Scraping the first page\n",
    "    for i in new_soup.findAll(class_='htzklx-15 iHYPbJ'):\n",
    "        name.append(i.text)\n",
    "    for i in new_soup.findAll(class_='htzklx-16 jrBxhj'):\n",
    "        speciality.append(i.text)\n",
    "    #Scraping from 2 to 10 pages\n",
    "    for i in range(2,11):\n",
    "        page = 'https://www.zocdoc.com/'+doc+'s/'+str(i)\n",
    "        driver.get(page)\n",
    "        new_soup = bs(driver.page_source)\n",
    "        for i in new_soup.findAll(class_='htzklx-15 iHYPbJ'):\n",
    "            name.append(i.text)\n",
    "        for i in new_soup.findAll(class_='htzklx-16 jrBxhj'):\n",
    "            speciality.append(i.text)"
   ]
  },
  {
   "cell_type": "code",
   "execution_count": null,
   "metadata": {},
   "outputs": [],
   "source": [
    "len(name)"
   ]
  },
  {
   "cell_type": "code",
   "execution_count": null,
   "metadata": {},
   "outputs": [],
   "source": [
    "len(speciality)"
   ]
  },
  {
   "cell_type": "markdown",
   "metadata": {},
   "source": [
    "#### Converting lists to a dataframe"
   ]
  },
  {
   "cell_type": "code",
   "execution_count": null,
   "metadata": {},
   "outputs": [],
   "source": [
    "df = pd.DataFrame(list(zip(name,speciality)),columns = [\"Doctor's Name\",'speciality'])"
   ]
  },
  {
   "cell_type": "code",
   "execution_count": null,
   "metadata": {},
   "outputs": [],
   "source": [
    "df"
   ]
  },
  {
   "cell_type": "markdown",
   "metadata": {},
   "source": [
    "#### Converting dataframe to csv"
   ]
  },
  {
   "cell_type": "code",
   "execution_count": null,
   "metadata": {},
   "outputs": [],
   "source": [
    "df.to_csv('zocdoc.csv')"
   ]
  },
  {
   "cell_type": "code",
   "execution_count": null,
   "metadata": {},
   "outputs": [],
   "source": [
    "#During scraping this dataset contains so many duplicates values. So we will drop these duplicate values.\n",
    "df = df.drop_duplicates()\n",
    "df = df.reset_index(drop=True)"
   ]
  },
  {
   "cell_type": "code",
   "execution_count": null,
   "metadata": {},
   "outputs": [],
   "source": [
    "df.shape"
   ]
  },
  {
   "cell_type": "code",
   "execution_count": null,
   "metadata": {},
   "outputs": [],
   "source": [
    "df.head()"
   ]
  }
 ],
 "metadata": {
  "kernelspec": {
   "display_name": "Python 3",
   "language": "python",
   "name": "python3"
  },
  "language_info": {
   "codemirror_mode": {
    "name": "ipython",
    "version": 3
   },
   "file_extension": ".py",
   "mimetype": "text/x-python",
   "name": "python",
   "nbconvert_exporter": "python",
   "pygments_lexer": "ipython3",
   "version": "3.7.4"
  }
 },
 "nbformat": 4,
 "nbformat_minor": 4
}
