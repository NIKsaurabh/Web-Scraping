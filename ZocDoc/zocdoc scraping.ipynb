{
 "cells": [
  {
   "cell_type": "markdown",
   "metadata": {},
   "source": [
    "# Web Scraping"
   ]
  },
  {
   "cell_type": "markdown",
   "metadata": {},
   "source": [
    "Scraped doctor's name and their speciality from https://www.zocdoc.com/specialty website. Initial web page of this website includes many specialities and its corresponding insurances, procedures and reason in which doctors are available. We have to click only specialities and scrape doctor's name and their specific speciality from that webpage. Each speciality have doctor's name in 10 webpages. We have to navigate to each and every pages to scrape the contents."
   ]
  },
  {
   "cell_type": "markdown",
   "metadata": {},
   "source": [
    "#### Importing libraries"
   ]
  },
  {
   "cell_type": "code",
   "execution_count": 1,
   "metadata": {},
   "outputs": [],
   "source": [
    "from selenium import webdriver\n",
    "from bs4 import BeautifulSoup as bs\n",
    "import pandas as pd"
   ]
  },
  {
   "cell_type": "markdown",
   "metadata": {},
   "source": [
    "I have used **Firefox** browser so I have used **geckodriver** to link **selenium** and Firefox browser. "
   ]
  },
  {
   "cell_type": "code",
   "execution_count": 2,
   "metadata": {
    "scrolled": true
   },
   "outputs": [],
   "source": [
    "driver = webdriver.Firefox()\n",
    "#Opening the home page with the help of selenium\n",
    "home = driver.get('https://www.zocdoc.com/specialty')"
   ]
  },
  {
   "cell_type": "code",
   "execution_count": 3,
   "metadata": {},
   "outputs": [],
   "source": [
    "#Getting all the source of the webpage where we visited\n",
    "content = driver.page_source"
   ]
  },
  {
   "cell_type": "code",
   "execution_count": 4,
   "metadata": {},
   "outputs": [],
   "source": [
    "#Handing over all the contents of the webpage to beautifulsoup to scrape the webpage.\n",
    "soup = bs(content)"
   ]
  },
  {
   "cell_type": "markdown",
   "metadata": {},
   "source": [
    "#### Scraping all the specialities from the home page"
   ]
  },
  {
   "cell_type": "code",
   "execution_count": 5,
   "metadata": {},
   "outputs": [],
   "source": [
    "specialities = []"
   ]
  },
  {
   "cell_type": "code",
   "execution_count": 6,
   "metadata": {},
   "outputs": [],
   "source": [
    "for i in soup.findAll(class_='sc-2gkh1u-2 sc-1hky09g-1 jULkYr'):\n",
    "    special = i.find(class_='sc-2gkh1u-3 jBFlDB')\n",
    "    specialities.append(special.text)"
   ]
  },
  {
   "cell_type": "code",
   "execution_count": 7,
   "metadata": {
    "scrolled": true
   },
   "outputs": [
    {
     "data": {
      "text/plain": [
       "['Acupuncturist',\n",
       " 'Allergist',\n",
       " 'Audiologist',\n",
       " 'Cardiologist',\n",
       " 'Chiropractor',\n",
       " 'Dentist',\n",
       " 'Dermatologist',\n",
       " 'Dietitian',\n",
       " 'Ear, Nose & Throat Doctor',\n",
       " 'Emergency Medicine Physician',\n",
       " 'Endocrinologist',\n",
       " 'Endodontist',\n",
       " 'Eye Doctor',\n",
       " 'Family Physician',\n",
       " 'Gastroenterologist',\n",
       " 'Hand Surgeon',\n",
       " 'Hearing Specialist',\n",
       " 'Hematologist',\n",
       " 'Infectious Disease Specialist',\n",
       " 'Infertility Specialist',\n",
       " 'Internist',\n",
       " 'Naturopathic Doctor',\n",
       " 'Nephrologist',\n",
       " 'Neurologist',\n",
       " 'Neurosurgeon',\n",
       " 'Nurse Practitioner',\n",
       " 'Nutritionist',\n",
       " 'OB-GYN',\n",
       " 'Oncologist',\n",
       " 'Ophthalmologist',\n",
       " 'Optometrist',\n",
       " 'Oral Surgeon',\n",
       " 'Orthodontist',\n",
       " 'Orthopedic Surgeon',\n",
       " 'Pain Management Specialist',\n",
       " 'Pediatric Dentist',\n",
       " 'Pediatric Urgent Care Specialist',\n",
       " 'Pediatrician',\n",
       " 'Periodontist',\n",
       " 'Physiatrist',\n",
       " 'Physical Therapist',\n",
       " 'Plastic Surgeon',\n",
       " 'Podiatrist',\n",
       " 'Primary Care Doctor',\n",
       " 'Prosthodontist',\n",
       " 'Psychiatrist',\n",
       " 'Psychologist',\n",
       " 'Psychotherapist',\n",
       " 'Pulmonologist',\n",
       " 'Radiologist',\n",
       " 'Rheumatologist',\n",
       " 'Sleep Medicine Specialist',\n",
       " 'Sports Medicine Specialist',\n",
       " 'Surgeon',\n",
       " 'Therapist / Counselor',\n",
       " 'Travel Medicine Specialist',\n",
       " 'Urgent Care Specialist',\n",
       " 'Urologist']"
      ]
     },
     "execution_count": 7,
     "metadata": {},
     "output_type": "execute_result"
    }
   ],
   "source": [
    "specialities"
   ]
  },
  {
   "cell_type": "code",
   "execution_count": 8,
   "metadata": {},
   "outputs": [],
   "source": [
    "#Lists to contain scraped Doctor's name and their speciality\n",
    "name = []\n",
    "speciality = []"
   ]
  },
  {
   "cell_type": "markdown",
   "metadata": {},
   "source": [
    "#### Scraping Doctor's name and speciality from all the pages."
   ]
  },
  {
   "cell_type": "code",
   "execution_count": 9,
   "metadata": {},
   "outputs": [],
   "source": [
    "#Iterating over all the specialities\n",
    "for doc in specialities:\n",
    "    #Moving to home page\n",
    "    driver.get('https://www.zocdoc.com/specialty')\n",
    "    #Clicking on a particular speciality\n",
    "    driver.find_element_by_partial_link_text(doc).click()\n",
    "    #Getting the page source and handing over it to beautifulsoup \n",
    "    new_soup = bs(driver.page_source)\n",
    "    \"\"\"When a speciality is clicked on the home page then in the URL chages. \n",
    "       For example if we click 'Ear, Nose & Throat Doctor' then URL will change to \n",
    "       'https://www.zocdoc.com/ear-nose-throat-doctors' so we have to clean the speciality according to URL\"\"\"\n",
    "    doc = doc.lower()\n",
    "    doc = doc.replace('-','')\n",
    "    doc = doc.replace(', ','-')\n",
    "    doc = doc.replace(' & ','-')\n",
    "    doc = doc.replace(' / ','-')\n",
    "    doc = doc.replace(' ','-')\n",
    "    #Scraping the first page\n",
    "    for i in new_soup.findAll(class_='htzklx-15 iHYPbJ'):\n",
    "        name.append(i.text)\n",
    "    for i in new_soup.findAll(class_='htzklx-16 jrBxhj'):\n",
    "        speciality.append(i.text)\n",
    "    #Scraping from 2 to 10 pages\n",
    "    for i in range(2,11):\n",
    "        page = 'https://www.zocdoc.com/'+doc+'s/'+str(i)\n",
    "        driver.get(page)\n",
    "        new_soup = bs(driver.page_source)\n",
    "        for i in new_soup.findAll(class_='htzklx-15 iHYPbJ'):\n",
    "            name.append(i.text)\n",
    "        for i in new_soup.findAll(class_='htzklx-16 jrBxhj'):\n",
    "            speciality.append(i.text)"
   ]
  },
  {
   "cell_type": "code",
   "execution_count": 10,
   "metadata": {},
   "outputs": [
    {
     "data": {
      "text/plain": [
       "9298"
      ]
     },
     "execution_count": 10,
     "metadata": {},
     "output_type": "execute_result"
    }
   ],
   "source": [
    "len(name)"
   ]
  },
  {
   "cell_type": "code",
   "execution_count": 11,
   "metadata": {},
   "outputs": [
    {
     "data": {
      "text/plain": [
       "9298"
      ]
     },
     "execution_count": 11,
     "metadata": {},
     "output_type": "execute_result"
    }
   ],
   "source": [
    "len(speciality)"
   ]
  },
  {
   "cell_type": "markdown",
   "metadata": {},
   "source": [
    "#### Converting lists to a dataframe"
   ]
  },
  {
   "cell_type": "code",
   "execution_count": 12,
   "metadata": {},
   "outputs": [],
   "source": [
    "df = pd.DataFrame(list(zip(name,speciality)),columns = [\"Doctor's Name\",'speciality'])"
   ]
  },
  {
   "cell_type": "code",
   "execution_count": 13,
   "metadata": {},
   "outputs": [
    {
     "data": {
      "text/plain": [
       "(9298, 2)"
      ]
     },
     "execution_count": 13,
     "metadata": {},
     "output_type": "execute_result"
    }
   ],
   "source": [
    "df.shape"
   ]
  },
  {
   "cell_type": "code",
   "execution_count": 14,
   "metadata": {},
   "outputs": [
    {
     "data": {
      "text/html": [
       "<div>\n",
       "<style scoped>\n",
       "    .dataframe tbody tr th:only-of-type {\n",
       "        vertical-align: middle;\n",
       "    }\n",
       "\n",
       "    .dataframe tbody tr th {\n",
       "        vertical-align: top;\n",
       "    }\n",
       "\n",
       "    .dataframe thead th {\n",
       "        text-align: right;\n",
       "    }\n",
       "</style>\n",
       "<table border=\"1\" class=\"dataframe\">\n",
       "  <thead>\n",
       "    <tr style=\"text-align: right;\">\n",
       "      <th></th>\n",
       "      <th>Doctor's Name</th>\n",
       "      <th>speciality</th>\n",
       "    </tr>\n",
       "  </thead>\n",
       "  <tbody>\n",
       "    <tr>\n",
       "      <th>0</th>\n",
       "      <td>Diem Truong, LAc, MSTOM</td>\n",
       "      <td>Acupuncturist</td>\n",
       "    </tr>\n",
       "    <tr>\n",
       "      <th>1</th>\n",
       "      <td>Monique Rivera, LAc</td>\n",
       "      <td>Acupuncturist</td>\n",
       "    </tr>\n",
       "    <tr>\n",
       "      <th>2</th>\n",
       "      <td>Ronald Pratt, LAc, DiplAc, MA, MSAc</td>\n",
       "      <td>Acupuncturist</td>\n",
       "    </tr>\n",
       "    <tr>\n",
       "      <th>3</th>\n",
       "      <td>Daniel Camburn, LAc</td>\n",
       "      <td>Acupuncturist</td>\n",
       "    </tr>\n",
       "    <tr>\n",
       "      <th>4</th>\n",
       "      <td>Deborah Barbiere, LAc, MSTOM, PsyD</td>\n",
       "      <td>Acupuncturist</td>\n",
       "    </tr>\n",
       "    <tr>\n",
       "      <th>5</th>\n",
       "      <td>Miguel Maya, MSTOM, LAc</td>\n",
       "      <td>Acupuncturist</td>\n",
       "    </tr>\n",
       "    <tr>\n",
       "      <th>6</th>\n",
       "      <td>Elizabeth Healy, LAc</td>\n",
       "      <td>Acupuncturist</td>\n",
       "    </tr>\n",
       "    <tr>\n",
       "      <th>7</th>\n",
       "      <td>Irina Logman, LAc, DACM</td>\n",
       "      <td>Acupuncturist</td>\n",
       "    </tr>\n",
       "    <tr>\n",
       "      <th>8</th>\n",
       "      <td>Han Jun, LAc</td>\n",
       "      <td>Acupuncturist</td>\n",
       "    </tr>\n",
       "    <tr>\n",
       "      <th>9</th>\n",
       "      <td>Michiko Yoshifuji, DiplAc, LAc</td>\n",
       "      <td>Acupuncturist</td>\n",
       "    </tr>\n",
       "  </tbody>\n",
       "</table>\n",
       "</div>"
      ],
      "text/plain": [
       "                         Doctor's Name     speciality\n",
       "0              Diem Truong, LAc, MSTOM  Acupuncturist\n",
       "1                  Monique Rivera, LAc  Acupuncturist\n",
       "2  Ronald Pratt, LAc, DiplAc, MA, MSAc  Acupuncturist\n",
       "3                  Daniel Camburn, LAc  Acupuncturist\n",
       "4   Deborah Barbiere, LAc, MSTOM, PsyD  Acupuncturist\n",
       "5              Miguel Maya, MSTOM, LAc  Acupuncturist\n",
       "6                 Elizabeth Healy, LAc  Acupuncturist\n",
       "7              Irina Logman, LAc, DACM  Acupuncturist\n",
       "8                         Han Jun, LAc  Acupuncturist\n",
       "9       Michiko Yoshifuji, DiplAc, LAc  Acupuncturist"
      ]
     },
     "execution_count": 14,
     "metadata": {},
     "output_type": "execute_result"
    }
   ],
   "source": [
    "df.head(10)"
   ]
  },
  {
   "cell_type": "markdown",
   "metadata": {},
   "source": [
    "#### Converting dataframe to csv"
   ]
  },
  {
   "cell_type": "code",
   "execution_count": 15,
   "metadata": {},
   "outputs": [],
   "source": [
    "zocdoc_csv = df.to_csv('zocdoc.csv')"
   ]
  },
  {
   "cell_type": "code",
   "execution_count": 16,
   "metadata": {},
   "outputs": [],
   "source": [
    "#During scraping this dataset contains so many duplicates values. So we will drop these duplicate values.\n",
    "df = df.drop_duplicates()\n",
    "df = df.reset_index(drop=True)"
   ]
  },
  {
   "cell_type": "code",
   "execution_count": 17,
   "metadata": {},
   "outputs": [
    {
     "data": {
      "text/plain": [
       "(3782, 2)"
      ]
     },
     "execution_count": 17,
     "metadata": {},
     "output_type": "execute_result"
    }
   ],
   "source": [
    "df.shape"
   ]
  },
  {
   "cell_type": "code",
   "execution_count": 18,
   "metadata": {},
   "outputs": [
    {
     "data": {
      "text/html": [
       "<div>\n",
       "<style scoped>\n",
       "    .dataframe tbody tr th:only-of-type {\n",
       "        vertical-align: middle;\n",
       "    }\n",
       "\n",
       "    .dataframe tbody tr th {\n",
       "        vertical-align: top;\n",
       "    }\n",
       "\n",
       "    .dataframe thead th {\n",
       "        text-align: right;\n",
       "    }\n",
       "</style>\n",
       "<table border=\"1\" class=\"dataframe\">\n",
       "  <thead>\n",
       "    <tr style=\"text-align: right;\">\n",
       "      <th></th>\n",
       "      <th>Doctor's Name</th>\n",
       "      <th>speciality</th>\n",
       "    </tr>\n",
       "  </thead>\n",
       "  <tbody>\n",
       "    <tr>\n",
       "      <th>0</th>\n",
       "      <td>Diem Truong, LAc, MSTOM</td>\n",
       "      <td>Acupuncturist</td>\n",
       "    </tr>\n",
       "    <tr>\n",
       "      <th>1</th>\n",
       "      <td>Monique Rivera, LAc</td>\n",
       "      <td>Acupuncturist</td>\n",
       "    </tr>\n",
       "    <tr>\n",
       "      <th>2</th>\n",
       "      <td>Ronald Pratt, LAc, DiplAc, MA, MSAc</td>\n",
       "      <td>Acupuncturist</td>\n",
       "    </tr>\n",
       "    <tr>\n",
       "      <th>3</th>\n",
       "      <td>Daniel Camburn, LAc</td>\n",
       "      <td>Acupuncturist</td>\n",
       "    </tr>\n",
       "    <tr>\n",
       "      <th>4</th>\n",
       "      <td>Deborah Barbiere, LAc, MSTOM, PsyD</td>\n",
       "      <td>Acupuncturist</td>\n",
       "    </tr>\n",
       "  </tbody>\n",
       "</table>\n",
       "</div>"
      ],
      "text/plain": [
       "                         Doctor's Name     speciality\n",
       "0              Diem Truong, LAc, MSTOM  Acupuncturist\n",
       "1                  Monique Rivera, LAc  Acupuncturist\n",
       "2  Ronald Pratt, LAc, DiplAc, MA, MSAc  Acupuncturist\n",
       "3                  Daniel Camburn, LAc  Acupuncturist\n",
       "4   Deborah Barbiere, LAc, MSTOM, PsyD  Acupuncturist"
      ]
     },
     "execution_count": 18,
     "metadata": {},
     "output_type": "execute_result"
    }
   ],
   "source": [
    "df.head()"
   ]
  },
  {
   "cell_type": "code",
   "execution_count": null,
   "metadata": {},
   "outputs": [],
   "source": []
  }
 ],
 "metadata": {
  "kernelspec": {
   "display_name": "Python 3",
   "language": "python",
   "name": "python3"
  },
  "language_info": {
   "codemirror_mode": {
    "name": "ipython",
    "version": 3
   },
   "file_extension": ".py",
   "mimetype": "text/x-python",
   "name": "python",
   "nbconvert_exporter": "python",
   "pygments_lexer": "ipython3",
   "version": "3.7.4"
  }
 },
 "nbformat": 4,
 "nbformat_minor": 4
}
